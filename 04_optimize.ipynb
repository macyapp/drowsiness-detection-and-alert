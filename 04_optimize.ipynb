{
 "cells": [
  {
   "cell_type": "code",
   "execution_count": 1,
   "metadata": {},
   "outputs": [],
   "source": [
    "# import the necessary packages\n",
    "from __future__ import print_function\n",
    "from imutils.video import WebcamVideoStream\n",
    "from imutils.video import FPS\n",
    "import argparse\n",
    "import imutils\n",
    "import cv2\n",
    "import datetime\n",
    "class FPS:\n",
    "\tdef __init__(self):\n",
    "\t\t# store the start time, end time, and total number of frames\n",
    "\t\t# that were examined between the start and end intervals\n",
    "\t\tself._start = None\n",
    "\t\tself._end = None\n",
    "\t\tself._numFrames = 0\n",
    "\tdef start(self):\n",
    "\t\t# start the timer\n",
    "\t\tself._start = datetime.datetime.now()\n",
    "\t\treturn self\n",
    "\tdef stop(self):\n",
    "\t\t# stop the timer\n",
    "\t\tself._end = datetime.datetime.now()\n",
    "\tdef update(self):\n",
    "\t\t# increment the total number of frames examined during the\n",
    "\t\t# start and end intervals\n",
    "\t\tself._numFrames += 1\n",
    "\tdef elapsed(self):\n",
    "\t\t# return the total number of seconds between the start and\n",
    "\t\t# end interval\n",
    "\t\treturn (self._end - self._start).total_seconds()\n",
    "\tdef fps(self):\n",
    "\t\t# compute the (approximate) frames per second\n",
    "\t\treturn self._numFrames / self.elapsed()"
   ]
  },
  {
   "cell_type": "code",
   "execution_count": 2,
   "metadata": {},
   "outputs": [],
   "source": [
    "# import the necessary packages\n",
    "from threading import Thread\n",
    "import cv2\n",
    "class WebcamVideoStream:\n",
    "\tdef __init__(self, src=0):\n",
    "\t\t# initialize the video camera stream and read the first frame\n",
    "\t\t# from the stream\n",
    "\t\tself.stream = cv2.VideoCapture(src)\n",
    "\t\t(self.grabbed, self.frame) = self.stream.read()\n",
    "\t\t# initialize the variable used to indicate if the thread should\n",
    "\t\t# be stopped\n",
    "\t\tself.stopped = False"
   ]
  },
  {
   "cell_type": "code",
   "execution_count": 3,
   "metadata": {},
   "outputs": [],
   "source": [
    "\tdef start(self):\n",
    "\t\t# start the thread to read frames from the video stream\n",
    "\t\tThread(target=self.update, args=()).start()\n",
    "\t\treturn self\n",
    "\tdef update(self):\n",
    "\t\t# keep looping infinitely until the thread is stopped\n",
    "\t\twhile True:\n",
    "\t\t\t# if the thread indicator variable is set, stop the thread\n",
    "\t\t\tif self.stopped:\n",
    "\t\t\t\treturn\n",
    "\t\t\t# otherwise, read the next frame from the stream\n",
    "\t\t\t(self.grabbed, self.frame) = self.stream.read()\n",
    "\tdef read(self):\n",
    "\t\t# return the frame most recently read\n",
    "\t\treturn self.frame\n",
    "\tdef stop(self):\n",
    "\t\t# indicate that the thread should be stopped\n",
    "\t\tself.stopped = True"
   ]
  },
  {
   "cell_type": "code",
   "execution_count": 4,
   "metadata": {},
   "outputs": [],
   "source": [
    "# construct the argument parse and parse the arguments\n",
    "ap = argparse.ArgumentParser()\n",
    "ap.add_argument(\"-n\", \"--num-frames\", type=int, default=100,\n",
    "\thelp=\"# of frames to loop over for FPS test\")\n",
    "ap.add_argument(\"-d\", \"--display\", type=int, default=-1,\n",
    "\thelp=\"Whether or not frames should be displayed\")\n",
    "args = {\n",
    "\t\"shape_predictor\":\"models/shape_predictor_68_face_landmarks.dat\",\n",
    "\t\"display\":1\n",
    "}"
   ]
  },
  {
   "cell_type": "code",
   "execution_count": 5,
   "metadata": {},
   "outputs": [
    {
     "name": "stdout",
     "output_type": "stream",
     "text": [
      "[INFO] sampling frames from webcam...\n"
     ]
    },
    {
     "ename": "KeyError",
     "evalue": "'num_frames'",
     "output_type": "error",
     "traceback": [
      "\u001b[0;31m---------------------------------------------------------------------------\u001b[0m",
      "\u001b[0;31mKeyError\u001b[0m                                  Traceback (most recent call last)",
      "\u001b[1;32m/home/sidhant/Projects/drowsiness-detection-and-alert/04_optimize.ipynb Cell 5'\u001b[0m in \u001b[0;36m<module>\u001b[0;34m\u001b[0m\n\u001b[1;32m      <a href='vscode-notebook-cell:/home/sidhant/Projects/drowsiness-detection-and-alert/04_optimize.ipynb#ch0000004?line=3'>4</a>\u001b[0m fps \u001b[39m=\u001b[39m FPS()\u001b[39m.\u001b[39mstart()\n\u001b[1;32m      <a href='vscode-notebook-cell:/home/sidhant/Projects/drowsiness-detection-and-alert/04_optimize.ipynb#ch0000004?line=4'>5</a>\u001b[0m \u001b[39m# loop over some frames\u001b[39;00m\n\u001b[0;32m----> <a href='vscode-notebook-cell:/home/sidhant/Projects/drowsiness-detection-and-alert/04_optimize.ipynb#ch0000004?line=5'>6</a>\u001b[0m \u001b[39mwhile\u001b[39;00m fps\u001b[39m.\u001b[39m_numFrames \u001b[39m<\u001b[39m args[\u001b[39m\"\u001b[39;49m\u001b[39mnum_frames\u001b[39;49m\u001b[39m\"\u001b[39;49m]:\n\u001b[1;32m      <a href='vscode-notebook-cell:/home/sidhant/Projects/drowsiness-detection-and-alert/04_optimize.ipynb#ch0000004?line=6'>7</a>\u001b[0m \t\u001b[39m# grab the frame from the stream and resize it to have a maximum\u001b[39;00m\n\u001b[1;32m      <a href='vscode-notebook-cell:/home/sidhant/Projects/drowsiness-detection-and-alert/04_optimize.ipynb#ch0000004?line=7'>8</a>\u001b[0m \t\u001b[39m# width of 400 pixels\u001b[39;00m\n\u001b[1;32m      <a href='vscode-notebook-cell:/home/sidhant/Projects/drowsiness-detection-and-alert/04_optimize.ipynb#ch0000004?line=8'>9</a>\u001b[0m \t(grabbed, frame) \u001b[39m=\u001b[39m stream\u001b[39m.\u001b[39mread()\n\u001b[1;32m     <a href='vscode-notebook-cell:/home/sidhant/Projects/drowsiness-detection-and-alert/04_optimize.ipynb#ch0000004?line=9'>10</a>\u001b[0m \tframe \u001b[39m=\u001b[39m imutils\u001b[39m.\u001b[39mresize(frame, width\u001b[39m=\u001b[39m\u001b[39m400\u001b[39m)\n",
      "\u001b[0;31mKeyError\u001b[0m: 'num_frames'"
     ]
    }
   ],
   "source": [
    "# grab a pointer to the video stream and initialize the FPS counter\n",
    "print(\"[INFO] sampling frames from webcam...\")\n",
    "stream = cv2.VideoCapture(0)\n",
    "fps = FPS().start()\n",
    "# loop over some frames\n",
    "while fps._numFrames < args[\"num_frames\"]:\n",
    "\t# grab the frame from the stream and resize it to have a maximum\n",
    "\t# width of 400 pixels\n",
    "\t(grabbed, frame) = stream.read()\n",
    "\tframe = imutils.resize(frame, width=400)\n",
    "\t# check to see if the frame should be displayed to our screen\n",
    "\tif args[\"display\"] > 0:\n",
    "\t\tcv2.imshow(\"Frame\", frame)\n",
    "\t\tkey = cv2.waitKey(1) & 0xFF\n",
    "\t# update the FPS counter\n",
    "\tfps.update()\n",
    "# stop the timer and display FPS information\n",
    "fps.stop()\n",
    "print(\"[INFO] elasped time: {:.2f}\".format(fps.elapsed()))\n",
    "print(\"[INFO] approx. FPS: {:.2f}\".format(fps.fps()))\n",
    "# do a bit of cleanup\n",
    "stream.release()\n",
    "cv2.destroyAllWindows()"
   ]
  },
  {
   "cell_type": "code",
   "execution_count": null,
   "metadata": {},
   "outputs": [],
   "source": [
    "# created a *threaded* video stream, allow the camera sensor to warmup,\n",
    "# and start the FPS counter\n",
    "print(\"[INFO] sampling THREADED frames from webcam...\")\n",
    "vs = WebcamVideoStream(src=0).start()\n",
    "fps = FPS().start()\n",
    "# loop over some frames...this time using the threaded stream\n",
    "while fps._numFrames < args[\"num_frames\"]:\n",
    "\t# grab the frame from the threaded video stream and resize it\n",
    "\t# to have a maximum width of 400 pixels\n",
    "\tframe = vs.read()\n",
    "\tframe = imutils.resize(frame, width=400)\n",
    "\t# check to see if the frame should be displayed to our screen\n",
    "\tif args[\"display\"] > 0:\n",
    "\t\tcv2.imshow(\"Frame\", frame)\n",
    "\t\tkey = cv2.waitKey(1) & 0xFF\n",
    "\t# update the FPS counter\n",
    "\tfps.update()\n",
    "# stop the timer and display FPS information\n",
    "fps.stop()\n",
    "print(\"[INFO] elasped time: {:.2f}\".format(fps.elapsed()))\n",
    "print(\"[INFO] approx. FPS: {:.2f}\".format(fps.fps()))\n",
    "# do a bit of cleanup\n",
    "cv2.destroyAllWindows()\n",
    "vs.stop()"
   ]
  }
 ],
 "metadata": {
  "kernelspec": {
   "display_name": "Python 3 (ipykernel)",
   "language": "python",
   "name": "python3"
  },
  "language_info": {
   "codemirror_mode": {
    "name": "ipython",
    "version": 3
   },
   "file_extension": ".py",
   "mimetype": "text/x-python",
   "name": "python",
   "nbconvert_exporter": "python",
   "pygments_lexer": "ipython3",
   "version": "3.8.10"
  },
  "orig_nbformat": 4
 },
 "nbformat": 4,
 "nbformat_minor": 2
}
