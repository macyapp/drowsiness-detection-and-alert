{
 "cells": [
  {
   "cell_type": "code",
   "execution_count": null,
   "metadata": {},
   "outputs": [],
   "source": [
    "# import the necessary packages\n",
    "from imutils import face_utils\n",
    "import numpy as np\n",
    "import argparse\n",
    "import imutils\n",
    "import dlib\n",
    "import cv2"
   ]
  },
  {
   "cell_type": "code",
   "execution_count": null,
   "metadata": {},
   "outputs": [],
   "source": [
    "# construct the argument parser and parse the arguments\n",
    "ap = argparse.ArgumentParser()\n",
    "ap.add_argument(\"-p\", \"--shape-predictor\", required=True,\n",
    "\thelp=\"path to facial landmark predictor\")\n",
    "ap.add_argument(\"-i\", \"--image\", required=True,\n",
    "\thelp=\"path to input image\")\n",
    "args = {\n",
    "\t\"shape_predictor\":\"models/shape_predictor_68_face_landmarks.dat\",\n",
    "\t\"image\":\"/home/sidhant/Projects/drowsiness-detection-and-alert/assets/02_face.jpg\"\n",
    "}\n",
    "\n",
    "\"\"\"\n",
    "Change:\n",
    "args = {\n",
    "\t\"shape_predictor\":\"models/shape_predictor_68_face_landmarks.dat\",\n",
    "\t\"image\":\"assets/02_face.jpg\"\n",
    "}\n",
    "\n",
    "to:\n",
    "args = vars(ap.parse_args())\n",
    "\n",
    "in order to get the location from the command line\n",
    "\"\"\""
   ]
  }
 ],
 "metadata": {
  "language_info": {
   "name": "python"
  },
  "orig_nbformat": 4
 },
 "nbformat": 4,
 "nbformat_minor": 2
}
