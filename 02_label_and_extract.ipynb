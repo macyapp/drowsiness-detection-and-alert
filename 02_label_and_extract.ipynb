{
 "cells": [
  {
   "cell_type": "code",
   "execution_count": null,
   "metadata": {},
   "outputs": [],
   "source": [
    "# import the necessary packages\n",
    "from imutils import face_utils\n",
    "import numpy as np\n",
    "import argparse\n",
    "import imutils\n",
    "import dlib\n",
    "import cv2"
   ]
  },
  {
   "cell_type": "code",
   "execution_count": null,
   "metadata": {},
   "outputs": [],
   "source": [
    "# construct the argument parser and parse the arguments\n",
    "ap = argparse.ArgumentParser()\n",
    "ap.add_argument(\"-p\", \"--shape-predictor\", required=True,\n",
    "\thelp=\"path to facial landmark predictor\")\n",
    "ap.add_argument(\"-i\", \"--image\", required=True,\n",
    "\thelp=\"path to input image\")\n",
    "args = {\n",
    "\t\"shape_predictor\":\"models/shape_predictor_68_face_landmarks.dat\",\n",
    "\t\"image\":\"/home/sidhant/Projects/drowsiness-detection-and-alert/assets/02_face.jpg\"\n",
    "}\n",
    "\n",
    "\"\"\"\n",
    "Change:\n",
    "args = {\n",
    "\t\"shape_predictor\":\"models/shape_predictor_68_face_landmarks.dat\",\n",
    "\t\"image\":\"assets/02_face.jpg\"\n",
    "}\n",
    "\n",
    "to:\n",
    "args = vars(ap.parse_args())\n",
    "\n",
    "in order to get the location from the command line\n",
    "\"\"\""
   ]
  },
  {
   "cell_type": "code",
   "execution_count": null,
   "metadata": {},
   "outputs": [],
   "source": [
    "# initialize dlib's face detector (HOG-based) and then create\n",
    "# the facial landmark predictor\n",
    "detector = dlib.get_frontal_face_detector()\n",
    "predictor = dlib.shape_predictor(args[\"shape_predictor\"])"
   ]
  },
  {
   "cell_type": "code",
   "execution_count": null,
   "metadata": {},
   "outputs": [],
   "source": [
    "# load the input image, resize it, and convert it to grayscale\n",
    "image = cv2.imread(args[\"image\"])\n",
    "image = imutils.resize(image, width=500)\n",
    "gray = cv2.cvtColor(image, cv2.COLOR_BGR2GRAY)"
   ]
  },
  {
   "cell_type": "code",
   "execution_count": null,
   "metadata": {},
   "outputs": [],
   "source": [
    "# detect faces in the grayscale image\n",
    "rects = detector(gray, 1)"
   ]
  },
  {
   "cell_type": "code",
   "execution_count": null,
   "metadata": {},
   "outputs": [],
   "source": [
    "# loop over the face detections\n",
    "for (i, rect) in enumerate(rects):\n",
    "\t# determine the facial landmarks for the face region, then\n",
    "\t# convert the landmark (x, y)-coordinates to a NumPy array\n",
    "\tshape = predictor(gray, rect)\n",
    "\tshape = face_utils.shape_to_np(shape)\n",
    "\t# loop over the face parts individually\n",
    "\tfor (name, (i, j)) in face_utils.FACIAL_LANDMARKS_IDXS.items():\n",
    "\t\t# clone the original image so we can draw on it, then\n",
    "\t\t# display the name of the face part on the image\n",
    "\t\tclone = image.copy()\n",
    "\t\tcv2.putText(clone, name, (10, 30), cv2.FONT_HERSHEY_SIMPLEX,\n",
    "\t\t\t0.7, (0, 0, 255), 2)\n",
    "\t\t# loop over the subset of facial landmarks, drawing the\n",
    "\t\t# specific face part\n",
    "\t\tfor (x, y) in shape[i:j]:\n",
    "\t\t\tcv2.circle(clone, (x, y), 1, (0, 0, 255), -1)\n",
    "        # extract the ROI of the face region as a separate image\n",
    "\t\t(x, y, w, h) = cv2.boundingRect(np.array([shape[i:j]]))\n",
    "\t\troi = image[y:y + h, x:x + w]\n",
    "\t\troi = imutils.resize(roi, width=250, inter=cv2.INTER_CUBIC)\n",
    "\t\t# show the particular face part\n",
    "\t\tcv2.imshow(\"ROI\", roi)\n",
    "\t\tcv2.imshow(\"Image\", clone)\n",
    "\t\tcv2.waitKey(0)\n",
    "\t# visualize all facial landmarks with a transparent overlay\n",
    "\toutput = face_utils.visualize_facial_landmarks(image, shape)\n",
    "\tcv2.imshow(\"Image\", output)\n",
    "\tcv2.waitKey(0)"
   ]
  }
 ],
 "metadata": {
  "interpreter": {
   "hash": "31f2aee4e71d21fbe5cf8b01ff0e069b9275f58929596ceb00d14d90e3e16cd6"
  },
  "kernelspec": {
   "display_name": "Python 3.8.10 64-bit",
   "language": "python",
   "name": "python3"
  },
  "language_info": {
   "codemirror_mode": {
    "name": "ipython",
    "version": 3
   },
   "file_extension": ".py",
   "mimetype": "text/x-python",
   "name": "python",
   "nbconvert_exporter": "python",
   "pygments_lexer": "ipython3",
   "version": "3.8.10"
  },
  "orig_nbformat": 4
 },
 "nbformat": 4,
 "nbformat_minor": 2
}
